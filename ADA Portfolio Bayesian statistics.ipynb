{
 "cells": [
  {
   "cell_type": "markdown",
   "id": "1f2baa0b",
   "metadata": {},
   "source": [
    "# ADA Bayesian Statistics Portfolio (working methods)"
   ]
  },
  {
   "cell_type": "markdown",
   "id": "0e71b074",
   "metadata": {},
   "source": [
    "## Question 1(c)(i)"
   ]
  },
  {
   "cell_type": "code",
   "execution_count": 6,
   "id": "9f08f43f",
   "metadata": {},
   "outputs": [
    {
     "name": "stdout",
     "output_type": "stream",
     "text": [
      "WARN: Could not locate executable g77\n",
      "WARN: Could not locate executable f77\n",
      "WARN: Could not locate executable ifort\n",
      "WARN: Could not locate executable ifl\n",
      "WARN: Could not locate executable f90\n",
      "WARN: Could not locate executable DF\n",
      "WARN: Could not locate executable efl\n",
      "WARN: Could not locate executable gfortran\n",
      "WARN: Could not locate executable f95\n",
      "WARN: Could not locate executable g95\n",
      "WARN: Could not locate executable efort\n",
      "WARN: Could not locate executable efc\n",
      "WARN: Could not locate executable flang\n",
      "WARN: don't know how to compile Fortran code on platform 'nt'\n"
     ]
    },
    {
     "name": "stderr",
     "output_type": "stream",
     "text": [
      "WARNING (theano.configdefaults): g++ not available, if using conda: `conda install m2w64-toolchain`\n",
      "WARNING (theano.configdefaults): g++ not detected ! Theano will be unable to execute optimized C-implementations (for both CPU and GPU) and will default to Python implementations. Performance will be severely degraded. To remove this warning, set Theano flags cxx to an empty string.\n",
      "WARNING (theano.tensor.blas): Using NumPy C-API based implementation for BLAS functions.\n",
      "C:\\Users\\renny\\Anaconda3\\lib\\site-packages\\deprecat\\classic.py:215: FutureWarning: In v4.0, pm.sample will return an `arviz.InferenceData` object instead of a `MultiTrace` by default. You can pass return_inferencedata=True or return_inferencedata=False to be safe and silence this warning.\n",
      "  return wrapped_(*args_, **kwargs_)\n",
      "Auto-assigning NUTS sampler...\n",
      "Initializing NUTS using jitter+adapt_diag...\n",
      "Multiprocess sampling (2 chains in 2 jobs)\n",
      "NUTS: [theta]\n"
     ]
    },
    {
     "data": {
      "text/html": [
       "\n",
       "<style>\n",
       "    /* Turns off some styling */\n",
       "    progress {\n",
       "        /* gets rid of default border in Firefox and Opera. */\n",
       "        border: none;\n",
       "        /* Needs to be in here for Safari polyfill so background images work as expected. */\n",
       "        background-size: auto;\n",
       "    }\n",
       "    progress:not([value]), progress:not([value])::-webkit-progress-bar {\n",
       "        background: repeating-linear-gradient(45deg, #7e7e7e, #7e7e7e 10px, #5c5c5c 10px, #5c5c5c 20px);\n",
       "    }\n",
       "    .progress-bar-interrupted, .progress-bar-interrupted::-webkit-progress-bar {\n",
       "        background: #F44336;\n",
       "    }\n",
       "</style>\n"
      ],
      "text/plain": [
       "<IPython.core.display.HTML object>"
      ]
     },
     "metadata": {},
     "output_type": "display_data"
    },
    {
     "data": {
      "text/html": [
       "\n",
       "    <div>\n",
       "      <progress value='22000' class='' max='22000' style='width:300px; height:20px; vertical-align: middle;'></progress>\n",
       "      100.00% [22000/22000 01:40&lt;00:00 Sampling 2 chains, 0 divergences]\n",
       "    </div>\n",
       "    "
      ],
      "text/plain": [
       "<IPython.core.display.HTML object>"
      ]
     },
     "metadata": {},
     "output_type": "display_data"
    },
    {
     "name": "stderr",
     "output_type": "stream",
     "text": [
      "Sampling 2 chains for 1_000 tune and 10_000 draw iterations (2_000 + 20_000 draws total) took 118 seconds.\n",
      "The acceptance probability does not match the target. It is 0.9031128203096341, but should be close to 0.8. Try to increase the number of tuning steps.\n"
     ]
    },
    {
     "name": "stdout",
     "output_type": "stream",
     "text": [
      "The 95% HDI is: [0.62803063 0.95116958]\n"
     ]
    }
   ],
   "source": [
    "# Find 95% HDI for Beta distribution: Beta(16,4)\n",
    "import pymc3 as pm\n",
    "import arviz as az\n",
    "\n",
    "# Define the Beta distribution\n",
    "alpha = 16\n",
    "beta = 4\n",
    "\n",
    "with pm.Model() as model:\n",
    "    theta = pm.Beta('theta', alpha=alpha, beta=beta)\n",
    "    # Sample from the posterior distribution, generate 10000 samples\n",
    "    trace = pm.sample(10000)\n",
    "\n",
    "# Compute the 95% HDI using the ArviZ library\n",
    "hdi = az.hdi(trace['theta'], hdi_prob=0.95)\n",
    "\n",
    "# Print the result\n",
    "print('The 95% HDI is:', hdi)"
   ]
  },
  {
   "cell_type": "code",
   "execution_count": 7,
   "id": "e2107b5b",
   "metadata": {
    "scrolled": true
   },
   "outputs": [
    {
     "data": {
      "image/png": "[encoded data removed]",
      "text/plain": [
       "<Figure size 432x288 with 1 Axes>"
      ]
     },
     "metadata": {
      "needs_background": "light"
     },
     "output_type": "display_data"
    }
   ],
   "source": [
    "###The plot of the pdf of Beta (16,4)\n",
    "import numpy as np\n",
    "import matplotlib.pyplot as plt\n",
    "import scipy.stats as stats\n",
    "from scipy.stats import beta\n",
    "\n",
    "X=stats.beta(16, 4)\n",
    "x = np.linspace(0, 1, 1002)[1:-1]\n",
    "plt.plot(x, X.pdf(x), ls='-', c='black',\n",
    "             label=r'$\\alpha=%.1f,\\ \\beta=%.1f$' % (16, 4))\n",
    "plt.xlim(0, 1)\n",
    "plt.ylim(0, 6)\n",
    "\n",
    "plt.xlabel(r'$\\theta$')\n",
    "plt.ylabel('Density')\n",
    "plt.title('Beta Posterior')\n",
    "\n",
    "plt.legend(loc=0)\n",
    "plt.show()"
   ]
  },
  {
   "cell_type": "markdown",
   "id": "660ff585",
   "metadata": {},
   "source": [
    "## Question 1(c)(ii)"
   ]
  },
  {
   "cell_type": "code",
   "execution_count": 20,
   "id": "90d1120f",
   "metadata": {},
   "outputs": [
    {
     "name": "stderr",
     "output_type": "stream",
     "text": [
      "C:\\Users\\renny\\Anaconda3\\lib\\site-packages\\deprecat\\classic.py:215: FutureWarning: In v4.0, pm.sample will return an `arviz.InferenceData` object instead of a `MultiTrace` by default. You can pass return_inferencedata=True or return_inferencedata=False to be safe and silence this warning.\n",
      "  return wrapped_(*args_, **kwargs_)\n",
      "Auto-assigning NUTS sampler...\n",
      "Initializing NUTS using jitter+adapt_diag...\n",
      "Multiprocess sampling (2 chains in 2 jobs)\n",
      "NUTS: [dist]\n"
     ]
    },
    {
     "data": {
      "text/html": [
       "\n",
       "<style>\n",
       "    /* Turns off some styling */\n",
       "    progress {\n",
       "        /* gets rid of default border in Firefox and Opera. */\n",
       "        border: none;\n",
       "        /* Needs to be in here for Safari polyfill so background images work as expected. */\n",
       "        background-size: auto;\n",
       "    }\n",
       "    progress:not([value]), progress:not([value])::-webkit-progress-bar {\n",
       "        background: repeating-linear-gradient(45deg, #7e7e7e, #7e7e7e 10px, #5c5c5c 10px, #5c5c5c 20px);\n",
       "    }\n",
       "    .progress-bar-interrupted, .progress-bar-interrupted::-webkit-progress-bar {\n",
       "        background: #F44336;\n",
       "    }\n",
       "</style>\n"
      ],
      "text/plain": [
       "<IPython.core.display.HTML object>"
      ]
     },
     "metadata": {},
     "output_type": "display_data"
    },
    {
     "data": {
      "text/html": [
       "\n",
       "    <div>\n",
       "      <progress value='22000' class='' max='22000' style='width:300px; height:20px; vertical-align: middle;'></progress>\n",
       "      100.00% [22000/22000 00:58&lt;00:00 Sampling 2 chains, 0 divergences]\n",
       "    </div>\n",
       "    "
      ],
      "text/plain": [
       "<IPython.core.display.HTML object>"
      ]
     },
     "metadata": {},
     "output_type": "display_data"
    },
    {
     "name": "stderr",
     "output_type": "stream",
     "text": [
      "Sampling 2 chains for 1_000 tune and 10_000 draw iterations (2_000 + 20_000 draws total) took 78 seconds.\n"
     ]
    },
    {
     "name": "stdout",
     "output_type": "stream",
     "text": [
      "The 95% HDI is: [2.70698546 6.87270161]\n"
     ]
    }
   ],
   "source": [
    "# Find 95% HDI for Gamma distribution: Ga(19,4)\n",
    "import pymc3 as pm\n",
    "import arviz as az\n",
    "import numpy as np\n",
    "\n",
    "# Define the Gamma distribution\n",
    "with pm.Model() as model:\n",
    "    shape = 19\n",
    "    scale = 4\n",
    "    dist = pm.Gamma('dist',alpha=shape, beta=scale)\n",
    "    # Sample from the posterior distribution, generate 10000 samples\n",
    "    trace = pm.sample(10000)\n",
    "\n",
    "# Calcaulte the 95% HDI\n",
    "hdi = az.hdi(trace['dist'], hdi_prob=0.95)\n",
    "\n",
    "# Print the results\n",
    "print('The 95% HDI is:', hdi)"
   ]
  },
  {
   "cell_type": "code",
   "execution_count": 40,
   "id": "553f878b",
   "metadata": {},
   "outputs": [
    {
     "data": {
      "image/png": "[encoded data removed]",
      "text/plain": [
       "<Figure size 432x288 with 1 Axes>"
      ]
     },
     "metadata": {
      "needs_background": "light"
     },
     "output_type": "display_data"
    }
   ],
   "source": [
    "import numpy as np\n",
    "import scipy.stats as stats \n",
    "import matplotlib.pyplot as plt\n",
    "\n",
    "#define x-axis values\n",
    "x = np.linspace (0, 10, 100) \n",
    "\n",
    "#calculate pdf of Gamma distribution for each x-value, recall scale = 1/beta = 1/4\n",
    "y = stats.gamma.pdf(x, a=19, scale=1/4)\n",
    "\n",
    "#create plot of Gamma distribution\n",
    "plt.plot(x, y,ls='-', c='black',\n",
    "             label=r'$\\alpha=%.1f,\\ \\beta=%.1f$' % (19, 4))\n",
    "#display plot\n",
    "plt.title('Gamma Distribution')\n",
    "plt.xlabel(r'$\\theta$')\n",
    "plt.ylabel('Density')\n",
    "plt.legend(loc=0)\n",
    "plt.show()"
   ]
  },
  {
   "cell_type": "code",
   "execution_count": null,
   "id": "90b130bd",
   "metadata": {},
   "outputs": [],
   "source": []
  },
  {
   "cell_type": "markdown",
   "id": "68a80299",
   "metadata": {},
   "source": [
    "## Question 1(c)(iii)"
   ]
  },
  {
   "cell_type": "code",
   "execution_count": 25,
   "id": "52010e70",
   "metadata": {},
   "outputs": [
    {
     "name": "stderr",
     "output_type": "stream",
     "text": [
      "C:\\Users\\renny\\Anaconda3\\lib\\site-packages\\deprecat\\classic.py:215: FutureWarning: In v4.0, pm.sample will return an `arviz.InferenceData` object instead of a `MultiTrace` by default. You can pass return_inferencedata=True or return_inferencedata=False to be safe and silence this warning.\n",
      "  return wrapped_(*args_, **kwargs_)\n",
      "Auto-assigning NUTS sampler...\n",
      "Initializing NUTS using jitter+adapt_diag...\n",
      "Multiprocess sampling (2 chains in 2 jobs)\n",
      "NUTS: [theta]\n"
     ]
    },
    {
     "data": {
      "text/html": [
       "\n",
       "<style>\n",
       "    /* Turns off some styling */\n",
       "    progress {\n",
       "        /* gets rid of default border in Firefox and Opera. */\n",
       "        border: none;\n",
       "        /* Needs to be in here for Safari polyfill so background images work as expected. */\n",
       "        background-size: auto;\n",
       "    }\n",
       "    progress:not([value]), progress:not([value])::-webkit-progress-bar {\n",
       "        background: repeating-linear-gradient(45deg, #7e7e7e, #7e7e7e 10px, #5c5c5c 10px, #5c5c5c 20px);\n",
       "    }\n",
       "    .progress-bar-interrupted, .progress-bar-interrupted::-webkit-progress-bar {\n",
       "        background: #F44336;\n",
       "    }\n",
       "</style>\n"
      ],
      "text/plain": [
       "<IPython.core.display.HTML object>"
      ]
     },
     "metadata": {},
     "output_type": "display_data"
    },
    {
     "data": {
      "text/html": [
       "\n",
       "    <div>\n",
       "      <progress value='22000' class='' max='22000' style='width:300px; height:20px; vertical-align: middle;'></progress>\n",
       "      100.00% [22000/22000 01:37&lt;00:00 Sampling 2 chains, 0 divergences]\n",
       "    </div>\n",
       "    "
      ],
      "text/plain": [
       "<IPython.core.display.HTML object>"
      ]
     },
     "metadata": {},
     "output_type": "display_data"
    },
    {
     "name": "stderr",
     "output_type": "stream",
     "text": [
      "Sampling 2 chains for 1_000 tune and 10_000 draw iterations (2_000 + 20_000 draws total) took 118 seconds.\n"
     ]
    },
    {
     "name": "stdout",
     "output_type": "stream",
     "text": [
      "The 95% HDI is: [0.65854785 0.94265311]\n"
     ]
    }
   ],
   "source": [
    "# Find 95% HDI for Beta distribution: Beta(21,5)\n",
    "import pymc3 as pm\n",
    "import arviz as az\n",
    "\n",
    "# Define the Beta distribution\n",
    "alpha = 21\n",
    "beta = 5\n",
    "\n",
    "with pm.Model() as model:\n",
    "    theta = pm.Beta('theta', alpha=alpha, beta=beta)\n",
    "    # Sample from the posterior distribution, generate 10000 samples\n",
    "    trace = pm.sample(10000)\n",
    "\n",
    "# Compute the 95% HDI using the ArviZ library\n",
    "hdi = az.hdi(trace['theta'], hdi_prob=0.95)\n",
    "\n",
    "# Print the result\n",
    "print('The 95% HDI is:', hdi)"
   ]
  },
  {
   "cell_type": "code",
   "execution_count": 28,
   "id": "82029f63",
   "metadata": {},
   "outputs": [
    {
     "data": {
      "image/png": "[encoded data removed]",
      "text/plain": [
       "<Figure size 432x288 with 1 Axes>"
      ]
     },
     "metadata": {
      "needs_background": "light"
     },
     "output_type": "display_data"
    }
   ],
   "source": [
    "###The plot of the pdf of Beta (21,5)\n",
    "import numpy as np\n",
    "import matplotlib.pyplot as plt\n",
    "import scipy.stats as stats\n",
    "from scipy.stats import beta\n",
    "\n",
    "X=stats.beta(21, 5)\n",
    "x = np.linspace(0, 1, 1002)[1:-1]\n",
    "plt.plot(x, X.pdf(x), ls='-', c='black',\n",
    "             label=r'$\\alpha=%.1f,\\ \\beta=%.1f$' % (21, 5))\n",
    "plt.xlim(0, 1)\n",
    "plt.ylim(0, 6)\n",
    "\n",
    "plt.xlabel(r'$\\theta$')\n",
    "plt.ylabel('Density')\n",
    "plt.title('Beta Posterior')\n",
    "\n",
    "plt.legend(loc=0)\n",
    "plt.show()"
   ]
  },
  {
   "cell_type": "markdown",
   "id": "7a0b286c",
   "metadata": {},
   "source": [
    "## Question 2(a)\n",
    "Calculate p-value, assum 5% significant level"
   ]
  },
  {
   "cell_type": "code",
   "execution_count": 8,
   "id": "b666010a",
   "metadata": {},
   "outputs": [
    {
     "name": "stdout",
     "output_type": "stream",
     "text": [
      "Test statistic: -2.7333333333333294\n",
      "p-value: 0.0037137406866111413\n"
     ]
    }
   ],
   "source": [
    "from scipy.stats import t\n",
    "\n",
    "# Set the null hypothesis value\n",
    "mu_0 = 120\n",
    "\n",
    "# Calculate the test statistic\n",
    "x_bar = 115.9\n",
    "s = 15\n",
    "N = 100\n",
    "t_stat = (x_bar - mu_0) / (s / (N**0.5))\n",
    "\n",
    "# Calculate the p-value\n",
    "p_value = t.cdf(t_stat, df=N-1)\n",
    "\n",
    "# Print the results\n",
    "print('Test statistic:', t_stat)\n",
    "print('p-value:', p_value)"
   ]
  },
  {
   "cell_type": "code",
   "execution_count": 29,
   "id": "305f3eb3",
   "metadata": {},
   "outputs": [
    {
     "name": "stdout",
     "output_type": "stream",
     "text": [
      "Test statistic: -2.7333333333333294\n",
      "p-value: 0.0031348422607054838\n"
     ]
    }
   ],
   "source": [
    "from scipy.stats import norm\n",
    "\n",
    "# Set the null hypothesis value\n",
    "mu_0 = 120\n",
    "\n",
    "# Calculate the test statistic\n",
    "x_bar = 115.9\n",
    "s = 15\n",
    "N = 100\n",
    "z_stat = (x_bar - mu_0) / (s / (N**0.5))\n",
    "\n",
    "# Calculate the p-value\n",
    "p_value = 1 - norm.cdf(abs(z_stat))\n",
    "\n",
    "# Print the results\n",
    "print('Test statistic:', z_stat)\n",
    "print('p-value:', p_value)"
   ]
  },
  {
   "cell_type": "markdown",
   "id": "4aa91dd8",
   "metadata": {},
   "source": [
    "## Question 2(b)"
   ]
  },
  {
   "cell_type": "code",
   "execution_count": 30,
   "id": "3d24fe02",
   "metadata": {},
   "outputs": [
    {
     "name": "stdout",
     "output_type": "stream",
     "text": [
      "Likelihood for μ=110 is 0.02462\n",
      "Likelihood for μ=111 is 0.02521\n",
      "Likelihood for μ=112 is 0.02571\n",
      "Likelihood for μ=113 is 0.02610\n",
      "Likelihood for μ=114 is 0.02638\n",
      "Likelihood for μ=115 is 0.02655\n",
      "Likelihood for μ=116 is 0.02660\n",
      "Likelihood for μ=117 is 0.02652\n",
      "Likelihood for μ=118 is 0.02634\n",
      "Likelihood for μ=119 is 0.02603\n",
      "Likelihood for μ=120 is 0.02562\n"
     ]
    }
   ],
   "source": [
    "import math\n",
    "# Define the observed value of x and the standard deviation\n",
    "x = 115.9\n",
    "sigma = 15\n",
    "\n",
    "# Define the range of possible values for μ\n",
    "mu_range = [110, 111, 112, 113, 114, 115, 116, 117, 118, 119, 120]\n",
    "\n",
    "# Loop through each value of μ and calculate the likelihood (to 5 decimal places)\n",
    "for mu in mu_range:\n",
    "    likelihood = 1/(sigma*math.sqrt(2*math.pi))*math.exp(-(x-mu)**2/(2*sigma**2))\n",
    "    print(f\"Likelihood for μ={mu} is {likelihood:.5f}\")"
   ]
  },
  {
   "cell_type": "markdown",
   "id": "55085592",
   "metadata": {},
   "source": [
    "## Question 3(c)"
   ]
  },
  {
   "cell_type": "code",
   "execution_count": 193,
   "id": "e735a29e",
   "metadata": {},
   "outputs": [],
   "source": [
    "import numpy as np\n",
    "# Joint distribution table\n",
    "joint_dist = np.array([[10/66, 15/66, 3/66], [20/66, 12/66, 0], [6/66, 0, 0]])\n",
    "# Initialize X and Y\n",
    "X = 0\n",
    "Y = 0\n",
    "# Lists to store samples\n",
    "X_samples = []\n",
    "Y_samples = []\n",
    "# Gibbs sampling iterations\n",
    "for i in range(10000):\n",
    "    # Sample X given Y\n",
    "    p_x_given_y = joint_dist[:, Y] / np.sum(joint_dist[:, Y])\n",
    "    X = np.random.choice([0, 1, 2], p=p_x_given_y)\n",
    "    # Sample Y given X\n",
    "    p_y_given_x = joint_dist[X, :] / np.sum(joint_dist[X, :])\n",
    "    Y = np.random.choice([0, 1, 2], p=p_y_given_x)\n",
    "    # Store samples\n",
    "    X_samples.append(X)\n",
    "    Y_samples.append(Y)"
   ]
  },
  {
   "cell_type": "code",
   "execution_count": 199,
   "id": "80ad26cf",
   "metadata": {},
   "outputs": [
    {
     "data": {
      "text/plain": [
       "array([[0.15151515, 0.22727273, 0.04545455],\n",
       "       [0.3030303 , 0.18181818, 0.        ],\n",
       "       [0.09090909, 0.        , 0.        ]])"
      ]
     },
     "execution_count": 199,
     "metadata": {},
     "output_type": "execute_result"
    }
   ],
   "source": [
    "joint_dist"
   ]
  },
  {
   "cell_type": "code",
   "execution_count": 194,
   "id": "4f77e6ea",
   "metadata": {},
   "outputs": [
    {
     "data": {
      "text/plain": [
       "array([0.55555556, 0.44444444, 0.        ])"
      ]
     },
     "execution_count": 194,
     "metadata": {},
     "output_type": "execute_result"
    }
   ],
   "source": [
    "#check P(X|Y)\n",
    "p_x_given_y"
   ]
  },
  {
   "cell_type": "code",
   "execution_count": 195,
   "id": "951353c5",
   "metadata": {},
   "outputs": [
    {
     "data": {
      "text/plain": [
       "array([0.35714286, 0.53571429, 0.10714286])"
      ]
     },
     "execution_count": 195,
     "metadata": {},
     "output_type": "execute_result"
    }
   ],
   "source": [
    "#check P(Y|X)\n",
    "p_y_given_x"
   ]
  },
  {
   "cell_type": "code",
   "execution_count": 196,
   "id": "99f23380",
   "metadata": {},
   "outputs": [
    {
     "data": {
      "text/plain": [
       "0.40909090909090906"
      ]
     },
     "execution_count": 196,
     "metadata": {},
     "output_type": "execute_result"
    }
   ],
   "source": [
    "#check this\n",
    "np.sum(joint_dist[:, Y])"
   ]
  },
  {
   "cell_type": "code",
   "execution_count": 197,
   "id": "e22353cc",
   "metadata": {},
   "outputs": [
    {
     "data": {
      "text/plain": [
       "0.42424242424242425"
      ]
     },
     "execution_count": 197,
     "metadata": {},
     "output_type": "execute_result"
    }
   ],
   "source": [
    "#check this\n",
    "np.sum(joint_dist[X, :])"
   ]
  },
  {
   "cell_type": "code",
   "execution_count": 198,
   "id": "e2dd3eed",
   "metadata": {},
   "outputs": [
    {
     "data": {
      "image/png": "[encoded data removed]",
      "text/plain": [
       "<Figure size 1440x1008 with 2 Axes>"
      ]
     },
     "metadata": {
      "needs_background": "light"
     },
     "output_type": "display_data"
    }
   ],
   "source": [
    "import matplotlib.pyplot as plt\n",
    "fig, (ax1, ax2) = plt.subplots(2, 1,figsize=(20,14))\n",
    "# Trace plot for X\n",
    "ax1.set_title('Trace plot for X')\n",
    "ax1.set_xlabel('Iteration')\n",
    "ax1.set_ylabel('Value for X')\n",
    "ax1.plot(X_samples)\n",
    "# Trace plot for Y\n",
    "ax2.set_title('Trace plot for Y')\n",
    "ax2.set_xlabel('Iteration')\n",
    "ax2.set_ylabel('Value for Y')\n",
    "ax2.plot(Y_samples)\n",
    "# Adjust subplots parameters\n",
    "fig.subplots_adjust(hspace=0.2, bottom=0.2)\n",
    "plt.show()"
   ]
  },
  {
   "cell_type": "markdown",
   "id": "2c581819",
   "metadata": {},
   "source": [
    "## Question 3(d) After dropping the burn-in simulations, check the ACFs for the two parameters.  Explain how you develop independent samples for the two parameters from the remaining simulations."
   ]
  },
  {
   "cell_type": "code",
   "execution_count": 200,
   "id": "b4219496",
   "metadata": {},
   "outputs": [
    {
     "data": {
      "image/png": "[encoded data removed]",
      "text/plain": [
       "<Figure size 1080x720 with 2 Axes>"
      ]
     },
     "metadata": {
      "needs_background": "light"
     },
     "output_type": "display_data"
    }
   ],
   "source": [
    "# Define Xburnin and Yburnin\n",
    "Xburnin=X_samples[1001:]\n",
    "Yburnin=Y_samples[1001:]\n",
    "##plot the 2 ACFs\n",
    "fig, (ax3, ax4) = plt.subplots(2, 1,figsize=(15,10))\n",
    "plot_acf(np.array(Xburnin),ax=ax3,title='ACF of X');\n",
    "ax3.set_xlabel('Lag')\n",
    "ax3.set_ylabel('ACF')\n",
    "plot_acf(np.array(Yburnin),ax=ax4,title='ACF of Y');\n",
    "ax4.set_xlabel('Lag')\n",
    "ax4.set_ylabel('ACF')\n",
    "plt.show()"
   ]
  },
  {
   "cell_type": "markdown",
   "id": "93a38602",
   "metadata": {},
   "source": [
    "Looking at the ACFs, both parameters reaches 0 correlation around lags 2. Hence every 2nd simulation will be chosen as an independent sample for X and Y."
   ]
  },
  {
   "cell_type": "code",
   "execution_count": 202,
   "id": "d0097bcc",
   "metadata": {},
   "outputs": [
    {
     "data": {
      "image/png": "[encoded data removed]",
      "text/plain": [
       "<Figure size 1080x720 with 4 Axes>"
      ]
     },
     "metadata": {
      "needs_background": "light"
     },
     "output_type": "display_data"
    }
   ],
   "source": [
    "Xsample=Xburnin[::2]\n",
    "Ysample=Yburnin[::2]\n",
    "fig, ((ax5, ax6), (ax7, ax8)) = plt.subplots(2, 2,figsize=(15,10))\n",
    "###Trace plots\n",
    "ax5.plot(Xsample)\n",
    "ax5.set_xlabel('Iteration')\n",
    "ax5.set_ylabel('Thinned X')\n",
    "ax5.set_title('Trace plot for X')\n",
    "ax6.plot(Ysample)\n",
    "ax6.set_xlabel('Iteration')\n",
    "ax6.set_ylabel('Thinned Y')\n",
    "ax6.set_title('Trace plot for Y')\n",
    "plot_acf(np.array(Xsample),ax=ax7,title='ACF of Thinned X');\n",
    "ax7.set_xlabel('Lag')\n",
    "ax7.set_ylabel('ACF')\n",
    "plot_acf(np.array(Ysample),ax=ax8,title='ACF of Thinned Y');\n",
    "ax8.set_xlabel('Lag')\n",
    "ax8.set_ylabel('ACF')\n",
    "plt.show()"
   ]
  },
  {
   "cell_type": "markdown",
   "id": "65afb675",
   "metadata": {},
   "source": [
    "## Question 3(e)"
   ]
  },
  {
   "cell_type": "code",
   "execution_count": 49,
   "id": "54a452ca",
   "metadata": {},
   "outputs": [
    {
     "name": "stdout",
     "output_type": "stream",
     "text": [
      "Proportions of (X, Y) pairs in the samples:\n",
      "  Y=0    Y=1    Y=2\n",
      "X=0  0.149600  0.225200  0.044400\n",
      "X=1  0.304800  0.184500  0.000000\n",
      "X=2  0.091500  0.000000  0.000000\n"
     ]
    }
   ],
   "source": [
    "# How would you develop your independent samples for (X,Y)?\n",
    "# Summarise the proportions of (X,Y) in your samples.\n",
    "import numpy as np\n",
    "# Define the joint distribution as a numpy array\n",
    "p = np.array([[10/66, 15/66, 3/66], [20/66, 12/66, 0], [6/66, 0, 0]])\n",
    "\n",
    "# Define the number of iterations for the Gibbs sampler\n",
    "n_iter = 10000\n",
    "\n",
    "# Initialize X and Y to random starting values\n",
    "X = np.random.choice([0, 1, 2])\n",
    "Y = np.random.choice([0, 1, 2])\n",
    "\n",
    "# Initialize a list to store the samples\n",
    "samples = []\n",
    "\n",
    "# Run the Gibbs sampler for n_iter iterations\n",
    "for i in range(n_iter):\n",
    "    # Sample Y from the conditional distribution p(Y|X)\n",
    "    Y = np.random.choice([0, 1, 2], p=p[:, X]/sum(p[:, X]))\n",
    "    \n",
    "    # Sample X from the conditional distribution p(X|Y)\n",
    "    X = np.random.choice([0, 1, 2], p=p[Y, :]/sum(p[Y, :]))\n",
    "    \n",
    "    # Add the current sample to the list of samples\n",
    "    samples.append((X, Y))\n",
    "\n",
    "# Count the proportions of each (X, Y) pair in the samples\n",
    "counts = np.zeros((3, 3))\n",
    "for (x, y) in samples:\n",
    "    counts[y, x] += 1\n",
    "proportions = counts/n_iter\n",
    "\n",
    "# Print the proportions in a table\n",
    "print(\"Proportions of (X, Y) pairs in the samples:\")\n",
    "print(\"  Y=0    Y=1    Y=2\")\n",
    "print(\"X=0  {:.6f}  {:.6f}  {:.6f}\".format(*proportions[0, :]))\n",
    "print(\"X=1  {:.6f}  {:.6f}  {:.6f}\".format(*proportions[1, :]))\n",
    "print(\"X=2  {:.6f}  {:.6f}  {:.6f}\".format(*proportions[2, :]))"
   ]
  },
  {
   "cell_type": "code",
   "execution_count": 51,
   "id": "2e7d874c",
   "metadata": {},
   "outputs": [
    {
     "data": {
      "text/plain": [
       "array([[0.15151515, 0.22727273, 0.04545455],\n",
       "       [0.3030303 , 0.18181818, 0.        ],\n",
       "       [0.09090909, 0.        , 0.        ]])"
      ]
     },
     "execution_count": 51,
     "metadata": {},
     "output_type": "execute_result"
    }
   ],
   "source": [
    "p"
   ]
  },
  {
   "cell_type": "markdown",
   "id": "ba4f6a60",
   "metadata": {},
   "source": [
    "## Question 4(a)"
   ]
  },
  {
   "cell_type": "code",
   "execution_count": 1,
   "id": "8f953d2d",
   "metadata": {},
   "outputs": [
    {
     "name": "stdout",
     "output_type": "stream",
     "text": [
      "Approximate value of the integral: 0.08544937926532244\n"
     ]
    }
   ],
   "source": [
    "import random\n",
    "import math\n",
    "def f(x):\n",
    "    return math.exp(-x**3)\n",
    "a = 1  # lower limit\n",
    "b = 4  # upper limit\n",
    "N = 10000000  # number of random points\n",
    "integral_sum = 0\n",
    "for i in range(N):\n",
    "    x = random.uniform(a, b)\n",
    "    integral_sum += f(x)\n",
    "integral = (b - a) * integral_sum / N\n",
    "print(\"Approximate value of the integral:\", integral)"
   ]
  },
  {
   "cell_type": "markdown",
   "id": "4ba6eee8",
   "metadata": {},
   "source": [
    "Alternatively:"
   ]
  },
  {
   "cell_type": "code",
   "execution_count": 3,
   "id": "d8dfe681",
   "metadata": {},
   "outputs": [],
   "source": [
    "import numpy as np\n",
    "#set seed for reproducibility\n",
    "np.random.seed(123)\n",
    "# Generate 10 0000 random numbers in the interval [1,4]\n",
    "x = np.random.uniform(1,4, 1000000)\n",
    "#Evalute the integrand at those points\n",
    "y=np.exp(-x**3)"
   ]
  },
  {
   "cell_type": "code",
   "execution_count": 4,
   "id": "7429e56c",
   "metadata": {},
   "outputs": [],
   "source": [
    "mean_y=np.mean(y)\n",
    "area = mean_y*3\n",
    "std_y =np.std(y, ddof=1)\n",
    "error = std_y/np.sqrt(len(y))*3"
   ]
  },
  {
   "cell_type": "code",
   "execution_count": 5,
   "id": "c6bf6a2e",
   "metadata": {},
   "outputs": [
    {
     "name": "stdout",
     "output_type": "stream",
     "text": [
      "Estimated area = 0.08515581\n",
      "Error = 0.00021557\n"
     ]
    }
   ],
   "source": [
    "# Print the results\n",
    "print(\"Estimated area = {:.8f}\".format(area))\n",
    "print(\"Error = {:.8f}\".format(error))"
   ]
  },
  {
   "cell_type": "markdown",
   "id": "18229190",
   "metadata": {},
   "source": [
    "## Question 4(c)"
   ]
  },
  {
   "cell_type": "markdown",
   "id": "20e37617",
   "metadata": {},
   "source": [
    "This code generates N = 100,000,000 random points in the square with corners at (0, 0), (1, 0), (1, 1), and (0, 1), and computes the number of points that lie below the curve of the integrand $\\sqrt(1-x^2)$.\n",
    "The estimated value of the integral is then obtained by dividing the number of points that lie below the curve by the total number of points.\n",
    "Since the integral $\\int_0^1\\sqrt(1-x^2)dx$ evaluates to $\\pi/4$, we can estimate the value of $\\pi$ by multiplying the estimated value of the integral by 4:"
   ]
  },
  {
   "cell_type": "code",
   "execution_count": 48,
   "id": "ff5f9264",
   "metadata": {},
   "outputs": [
    {
     "name": "stdout",
     "output_type": "stream",
     "text": [
      "π ≈ 3.14165572\n"
     ]
    }
   ],
   "source": [
    "import random\n",
    "\n",
    "def monte_carlo_pi(n):\n",
    "    count = 0\n",
    "    for i in range(n):\n",
    "        x = random.uniform(0, 1)\n",
    "        y = random.uniform(0, 1)\n",
    "        if y <= (1 - x**2)**0.5:\n",
    "            count += 1\n",
    "    return 4 * count / n\n",
    "\n",
    "pi_estimate = monte_carlo_pi(100000000)  # use a large number of points for accuracy\n",
    "print(f\"π ≈ {pi_estimate:.8f}\")"
   ]
  },
  {
   "cell_type": "code",
   "execution_count": null,
   "id": "5bbb9bf8",
   "metadata": {},
   "outputs": [],
   "source": []
  },
  {
   "cell_type": "code",
   "execution_count": null,
   "id": "d38a19cd",
   "metadata": {},
   "outputs": [],
   "source": []
  }
 ],
 "metadata": {
  "kernelspec": {
   "display_name": "Python 3",
   "language": "python",
   "name": "python3"
  },
  "language_info": {
   "codemirror_mode": {
    "name": "ipython",
    "version": 3
   },
   "file_extension": ".py",
   "mimetype": "text/x-python",
   "name": "python",
   "nbconvert_exporter": "python",
   "pygments_lexer": "ipython3",
   "version": "3.8.8"
  }
 },
 "nbformat": 4,
 "nbformat_minor": 5
}
